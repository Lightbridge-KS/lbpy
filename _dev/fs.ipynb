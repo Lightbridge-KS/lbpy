{
 "cells": [
  {
   "cell_type": "markdown",
   "id": "0a53f7bd",
   "metadata": {},
   "source": [
    "# Dev: `fs`"
   ]
  },
  {
   "cell_type": "code",
   "execution_count": 1,
   "id": "df6e3312",
   "metadata": {},
   "outputs": [],
   "source": [
    "import sys\n",
    "from pathlib import Path\n",
    "sys.path.insert(1, str(Path.cwd().parent)) \n",
    "\n",
    "import lbpy\n"
   ]
  },
  {
   "cell_type": "code",
   "execution_count": 4,
   "id": "f6056f14",
   "metadata": {},
   "outputs": [
    {
     "name": "stdout",
     "output_type": "stream",
     "text": [
      "Error reading file: 'tester.pkl'\n",
      " 'utf-8' codec can't decode byte 0x80 in position 0: invalid start byte\n"
     ]
    },
    {
     "data": {
      "text/plain": [
       "{'fs.ipynb': '{\\n \"cells\": [\\n  {\\n   \"cell_type\": \"markdown\",\\n   \"id\": \"0a53f7bd\",\\n   \"metadata\": {},\\n   \"source\": [\\n    \"# Dev: `fs`\"\\n   ]\\n  },\\n  {\\n   \"cell_type\": \"code\",\\n   \"execution_count\": 1,\\n   \"id\": \"df6e3312\",\\n   \"metadata\": {},\\n   \"outputs\": [],\\n   \"source\": [\\n    \"import sys\\\\n\",\\n    \"from pathlib import Path\\\\n\",\\n    \"sys.path.insert(1, str(Path.cwd().parent)) \\\\n\",\\n    \"\\\\n\",\\n    \"import lbpy\\\\n\"\\n   ]\\n  },\\n  {\\n   \"cell_type\": \"code\",\\n   \"execution_count\": 2,\\n   \"id\": \"f6056f14\",\\n   \"metadata\": {},\\n   \"outputs\": [\\n    {\\n     \"data\": {\\n      \"text/plain\": [\\n       \"[PosixPath(\\'pkl\\'), PosixPath(\\'fs.ipynb\\'), PosixPath(\\'text\\')]\"\\n      ]\\n     },\\n     \"execution_count\": 2,\\n     \"metadata\": {},\\n     \"output_type\": \"execute_result\"\\n    }\\n   ],\\n   \"source\": [\\n    \"lbpy.list_dir(\\\\\".\\\\\")\"\\n   ]\\n  },\\n  {\\n   \"cell_type\": \"markdown\",\\n   \"id\": \"9595fa09\",\\n   \"metadata\": {},\\n   \"source\": [\\n    \"## `list_dir()`\"\\n   ]\\n  },\\n  {\\n   \"cell_type\": \"code\",\\n   \"execution_count\": 244,\\n   \"id\": \"6e4e3bed\",\\n   \"metadata\": {},\\n   \"outputs\": [],\\n   \"source\": [\\n    \"def list_dir(directory, recurse = False, pattern: str = \\\\\"*\\\\\") -> list[Path]:\\\\n\",\\n    \"    \\\\\"\\\\\"\\\\\"List content in a directory\\\\\"\\\\\"\\\\\"\\\\n\",\\n    \"    path = Path(directory)\\\\n\",\\n    \"    if recurse:\\\\n\",\\n    \"        return list(path.rglob(pattern))\\\\n\",\\n    \"    else:\\\\n\",\\n    \"        return list(path.glob(pattern))\"\\n   ]\\n  },\\n  {\\n   \"cell_type\": \"code\",\\n   \"execution_count\": 246,\\n   \"id\": \"84e61dd3\",\\n   \"metadata\": {},\\n   \"outputs\": [\\n    {\\n     \"data\": {\\n      \"text/plain\": [\\n       \"[PosixPath(\\'fs.ipynb\\'), PosixPath(\\'text\\')]\"\\n      ]\\n     },\\n     \"execution_count\": 246,\\n     \"metadata\": {},\\n     \"output_type\": \"execute_result\"\\n    }\\n   ],\\n   \"source\": [\\n    \"list_dir(\\\\\".\\\\\", recurse=False)\"\\n   ]\\n  },\\n  {\\n   \"cell_type\": \"markdown\",\\n   \"id\": \"9006fe25\",\\n   \"metadata\": {},\\n   \"source\": [\\n    \"## `read_text()`\"\\n   ]\\n  },\\n  {\\n   \"cell_type\": \"code\",\\n   \"execution_count\": null,\\n   \"id\": \"f2db18e7\",\\n   \"metadata\": {},\\n   \"outputs\": [],\\n   \"source\": [\\n    \"def read_text(path, encoding=\\'utf-8\\'):    \\\\n\",\\n    \"    \\\\\"\\\\\"\\\\\"Read a text file and return its content as a string.\\\\n\",\\n    \"    \\\\\"\\\\\"\\\\\"\\\\n\",\\n    \"    path = Path(path)\\\\n\",\\n    \"    try:\\\\n\",\\n    \"        # Open the text file in read mode\\\\n\",\\n    \"        with open(path, \\'r\\', encoding=encoding) as file:\\\\n\",\\n    \"            # Read the entire file content into a string\\\\n\",\\n    \"            text_content = file.read()\\\\n\",\\n    \"            return text_content\\\\n\",\\n    \"    except FileNotFoundError:\\\\n\",\\n    \"        print(f\\\\\"File was not found: `{path}`\\\\\")\\\\n\",\\n    \"    except Exception:\\\\n\",\\n    \"        raise\"\\n   ]\\n  },\\n  {\\n   \"cell_type\": \"code\",\\n   \"execution_count\": 44,\\n   \"id\": \"53c98ee9\",\\n   \"metadata\": {},\\n   \"outputs\": [\\n    {\\n     \"name\": \"stdout\",\\n     \"output_type\": \"stream\",\\n     \"text\": [\\n      \"File was not found: `not-exist.txt`\\\\n\"\\n     ]\\n    }\\n   ],\\n   \"source\": [\\n    \"read_text(\\\\\"not-exist.txt\\\\\")\"\\n   ]\\n  },\\n  {\\n   \"cell_type\": \"code\",\\n   \"execution_count\": 46,\\n   \"id\": \"b1042fcc\",\\n   \"metadata\": {},\\n   \"outputs\": [\\n    {\\n     \"data\": {\\n      \"text/plain\": [\\n       \"\\'Hello world\\\\\\\\nThis is secound line\\\\\\\\n\\'\"\\n      ]\\n     },\\n     \"execution_count\": 46,\\n     \"metadata\": {},\\n     \"output_type\": \"execute_result\"\\n    }\\n   ],\\n   \"source\": [\\n    \"read_text(\\\\\"text/hello.txt\\\\\")\\\\n\",\\n    \"read_text(Path(\\\\\"text/hello.txt\\\\\"))\"\\n   ]\\n  },\\n  {\\n   \"cell_type\": \"markdown\",\\n   \"id\": \"ca04926d\",\\n   \"metadata\": {},\\n   \"source\": [\\n    \"### HowTo\"\\n   ]\\n  },\\n  {\\n   \"cell_type\": \"code\",\\n   \"execution_count\": null,\\n   \"id\": \"2ceb31c7\",\\n   \"metadata\": {},\\n   \"outputs\": [\\n    {\\n     \"data\": {\\n      \"text/plain\": [\\n       \"\\'Hello world\\\\\\\\nThis is secound line\\\\\\\\n\\'\"\\n      ]\\n     },\\n     \"execution_count\": 4,\\n     \"metadata\": {},\\n     \"output_type\": \"execute_result\"\\n    }\\n   ],\\n   \"source\": [\\n    \"with open(\\\\\"text/hello.txt\\\\\", \\'r\\', encoding=\\'utf-8\\') as file:\\\\n\",\\n    \"    res1 = file.read()\\\\n\",\\n    \"    \\\\n\",\\n    \"res1\"\\n   ]\\n  },\\n  {\\n   \"cell_type\": \"code\",\\n   \"execution_count\": 6,\\n   \"id\": \"cab851ba\",\\n   \"metadata\": {},\\n   \"outputs\": [\\n    {\\n     \"data\": {\\n      \"text/plain\": [\\n       \"[\\'Hello world\\\\\\\\n\\', \\'This is secound line\\\\\\\\n\\']\"\\n      ]\\n     },\\n     \"execution_count\": 6,\\n     \"metadata\": {},\\n     \"output_type\": \"execute_result\"\\n    }\\n   ],\\n   \"source\": [\\n    \"with open(\\\\\"text/hello.txt\\\\\", \\'r\\', encoding=\\'utf-8\\') as file:\\\\n\",\\n    \"    res2 = file.readlines()\\\\n\",\\n    \"    \\\\n\",\\n    \"res2\"\\n   ]\\n  },\\n  {\\n   \"cell_type\": \"markdown\",\\n   \"id\": \"9943a0eb\",\\n   \"metadata\": {},\\n   \"source\": [\\n    \"## `write_text()`\"\\n   ]\\n  },\\n  {\\n   \"cell_type\": \"code\",\\n   \"execution_count\": 101,\\n   \"id\": \"22a1e75f\",\\n   \"metadata\": {},\\n   \"outputs\": [],\\n   \"source\": [\\n    \"def write_text(text, path, encoding=\\\\\"utf-8\\\\\", recurse = False, append = False):\\\\n\",\\n    \"    \\\\\"\\\\\"\\\\\"Write a text string to a text file.\\\\n\",\\n    \"    \\\\\"\\\\\"\\\\\"\\\\n\",\\n    \"    path = Path(path)\\\\n\",\\n    \"    try:\\\\n\",\\n    \"        # Create intermediate directories if they don\\'t exist\\\\n\",\\n    \"        if recurse and not path.parent.exists():\\\\n\",\\n    \"            path.parent.mkdir(parents=True, exist_ok=True)\\\\n\",\\n    \"            print(f\\\\\"Created intermediate dir: {path.parent}\\\\\")\\\\n\",\\n    \"        \\\\n\",\\n    \"        # Open the text file to write or append content\\\\n\",\\n    \"        with open(path, \\\\\"a\\\\\" if append else \\\\\"w\\\\\", encoding=encoding) as file:\\\\n\",\\n    \"            file.write(text)\\\\n\",\\n    \"            if append:\\\\n\",\\n    \"                print(f\\\\\"Text successfully append to {path}\\\\\")\\\\n\",\\n    \"            else:\\\\n\",\\n    \"                print(f\\\\\"Text successfully written to {path}\\\\\")\\\\n\",\\n    \"        \\\\n\",\\n    \"    except (PermissionError, IsADirectoryError):\\\\n\",\\n    \"        print(f\\\\\"Cannot write to file: `{path}`\\\\\")\\\\n\",\\n    \"    except Exception:\\\\n\",\\n    \"        raise\\\\n\"\\n   ]\\n  },\\n  {\\n   \"cell_type\": \"code\",\\n   \"execution_count\": 96,\\n   \"id\": \"8d1155d0\",\\n   \"metadata\": {},\\n   \"outputs\": [\\n    {\\n     \"name\": \"stdout\",\\n     \"output_type\": \"stream\",\\n     \"text\": [\\n      \"Text successfully written to text/hello-write.txt\\\\n\",\\n      \"Text successfully written to text/hello-write2.txt\\\\n\"\\n     ]\\n    }\\n   ],\\n   \"source\": [\\n    \"write_text(\\\\\"hi\\\\\", Path(\\\\\"text/hello-write.txt\\\\\"), append=False)\\\\n\",\\n    \"write_text(\\\\\"hi2\\\\\", Path(\\\\\"text/hello-write2.txt\\\\\"), append=False)\"\\n   ]\\n  },\\n  {\\n   \"cell_type\": \"code\",\\n   \"execution_count\": 102,\\n   \"id\": \"495212b4\",\\n   \"metadata\": {},\\n   \"outputs\": [\\n    {\\n     \"ename\": \"FileNotFoundError\",\\n     \"evalue\": \"[Errno 2] No such file or directory: \\'text/subdir2/hello-write.txt\\'\",\\n     \"output_type\": \"error\",\\n     \"traceback\": [\\n      \"\\\\u001b[31m---------------------------------------------------------------------------\\\\u001b[39m\",\\n      \"\\\\u001b[31mFileNotFoundError\\\\u001b[39m                         Traceback (most recent call last)\",\\n      \"\\\\u001b[36mCell\\\\u001b[39m\\\\u001b[36m \\\\u001b[39m\\\\u001b[32mIn[102]\\\\u001b[39m\\\\u001b[32m, line 1\\\\u001b[39m\\\\n\\\\u001b[32m----> \\\\u001b[39m\\\\u001b[32m1\\\\u001b[39m \\\\u001b[43mwrite_text\\\\u001b[49m\\\\u001b[43m(\\\\u001b[49m\\\\u001b[33;43m\\\\\"\\\\u001b[39;49m\\\\u001b[33;43mhi\\\\u001b[39;49m\\\\u001b[33;43m\\\\\"\\\\u001b[39;49m\\\\u001b[43m,\\\\u001b[49m\\\\u001b[43m \\\\u001b[49m\\\\u001b[43mPath\\\\u001b[49m\\\\u001b[43m(\\\\u001b[49m\\\\u001b[33;43m\\\\\"\\\\u001b[39;49m\\\\u001b[33;43mtext/subdir2/hello-write.txt\\\\u001b[39;49m\\\\u001b[33;43m\\\\\"\\\\u001b[39;49m\\\\u001b[43m)\\\\u001b[49m\\\\u001b[43m,\\\\u001b[49m\\\\u001b[43m \\\\u001b[49m\\\\u001b[43mrecurse\\\\u001b[49m\\\\u001b[43m=\\\\u001b[49m\\\\u001b[38;5;28;43;01mFalse\\\\u001b[39;49;00m\\\\u001b[43m)\\\\u001b[49m\\\\n\",\\n      \"\\\\u001b[36mCell\\\\u001b[39m\\\\u001b[36m \\\\u001b[39m\\\\u001b[32mIn[101]\\\\u001b[39m\\\\u001b[32m, line 12\\\\u001b[39m, in \\\\u001b[36mwrite_text\\\\u001b[39m\\\\u001b[34m(text, path, encoding, recurse, append)\\\\u001b[39m\\\\n\\\\u001b[32m      9\\\\u001b[39m     \\\\u001b[38;5;28mprint\\\\u001b[39m(\\\\u001b[33mf\\\\u001b[39m\\\\u001b[33m\\\\\"\\\\u001b[39m\\\\u001b[33mCreated intermediate dir: \\\\u001b[39m\\\\u001b[38;5;132;01m{\\\\u001b[39;00mpath.parent\\\\u001b[38;5;132;01m}\\\\u001b[39;00m\\\\u001b[33m\\\\\"\\\\u001b[39m)\\\\n\\\\u001b[32m     11\\\\u001b[39m \\\\u001b[38;5;66;03m# Open the text file to write or append content\\\\u001b[39;00m\\\\n\\\\u001b[32m---> \\\\u001b[39m\\\\u001b[32m12\\\\u001b[39m \\\\u001b[38;5;28;01mwith\\\\u001b[39;00m \\\\u001b[38;5;28;43mopen\\\\u001b[39;49m\\\\u001b[43m(\\\\u001b[49m\\\\u001b[43mpath\\\\u001b[49m\\\\u001b[43m,\\\\u001b[49m\\\\u001b[43m \\\\u001b[49m\\\\u001b[33;43m\\\\\"\\\\u001b[39;49m\\\\u001b[33;43ma\\\\u001b[39;49m\\\\u001b[33;43m\\\\\"\\\\u001b[39;49m\\\\u001b[43m \\\\u001b[49m\\\\u001b[38;5;28;43;01mif\\\\u001b[39;49;00m\\\\u001b[43m \\\\u001b[49m\\\\u001b[43mappend\\\\u001b[49m\\\\u001b[43m \\\\u001b[49m\\\\u001b[38;5;28;43;01melse\\\\u001b[39;49;00m\\\\u001b[43m \\\\u001b[49m\\\\u001b[33;43m\\\\\"\\\\u001b[39;49m\\\\u001b[33;43mw\\\\u001b[39;49m\\\\u001b[33;43m\\\\\"\\\\u001b[39;49m\\\\u001b[43m,\\\\u001b[49m\\\\u001b[43m \\\\u001b[49m\\\\u001b[43mencoding\\\\u001b[49m\\\\u001b[43m=\\\\u001b[49m\\\\u001b[43mencoding\\\\u001b[49m\\\\u001b[43m)\\\\u001b[49m \\\\u001b[38;5;28;01mas\\\\u001b[39;00m file:\\\\n\\\\u001b[32m     13\\\\u001b[39m     file.write(text)\\\\n\\\\u001b[32m     14\\\\u001b[39m     \\\\u001b[38;5;28;01mif\\\\u001b[39;00m append:\\\\n\",\\n      \"\\\\u001b[36mFile \\\\u001b[39m\\\\u001b[32m~/my_pkg-py/lbpy/.venv/lib/python3.13/site-packages/IPython/core/interactiveshell.py:326\\\\u001b[39m, in \\\\u001b[36m_modified_open\\\\u001b[39m\\\\u001b[34m(file, *args, **kwargs)\\\\u001b[39m\\\\n\\\\u001b[32m    319\\\\u001b[39m \\\\u001b[38;5;28;01mif\\\\u001b[39;00m file \\\\u001b[38;5;129;01min\\\\u001b[39;00m {\\\\u001b[32m0\\\\u001b[39m, \\\\u001b[32m1\\\\u001b[39m, \\\\u001b[32m2\\\\u001b[39m}:\\\\n\\\\u001b[32m    320\\\\u001b[39m     \\\\u001b[38;5;28;01mraise\\\\u001b[39;00m \\\\u001b[38;5;167;01mValueError\\\\u001b[39;00m(\\\\n\\\\u001b[32m    321\\\\u001b[39m         \\\\u001b[33mf\\\\u001b[39m\\\\u001b[33m\\\\\"\\\\u001b[39m\\\\u001b[33mIPython won\\\\u001b[39m\\\\u001b[33m\\'\\\\u001b[39m\\\\u001b[33mt let you open fd=\\\\u001b[39m\\\\u001b[38;5;132;01m{\\\\u001b[39;00mfile\\\\u001b[38;5;132;01m}\\\\u001b[39;00m\\\\u001b[33m by default \\\\u001b[39m\\\\u001b[33m\\\\\"\\\\u001b[39m\\\\n\\\\u001b[32m    322\\\\u001b[39m         \\\\u001b[33m\\\\\"\\\\u001b[39m\\\\u001b[33mas it is likely to crash IPython. If you know what you are doing, \\\\u001b[39m\\\\u001b[33m\\\\\"\\\\u001b[39m\\\\n\\\\u001b[32m    323\\\\u001b[39m         \\\\u001b[33m\\\\\"\\\\u001b[39m\\\\u001b[33myou can use builtins\\\\u001b[39m\\\\u001b[33m\\'\\\\u001b[39m\\\\u001b[33m open.\\\\u001b[39m\\\\u001b[33m\\\\\"\\\\u001b[39m\\\\n\\\\u001b[32m    324\\\\u001b[39m     )\\\\n\\\\u001b[32m--> \\\\u001b[39m\\\\u001b[32m326\\\\u001b[39m \\\\u001b[38;5;28;01mreturn\\\\u001b[39;00m \\\\u001b[43mio_open\\\\u001b[49m\\\\u001b[43m(\\\\u001b[49m\\\\u001b[43mfile\\\\u001b[49m\\\\u001b[43m,\\\\u001b[49m\\\\u001b[43m \\\\u001b[49m\\\\u001b[43m*\\\\u001b[49m\\\\u001b[43margs\\\\u001b[49m\\\\u001b[43m,\\\\u001b[49m\\\\u001b[43m \\\\u001b[49m\\\\u001b[43m*\\\\u001b[49m\\\\u001b[43m*\\\\u001b[49m\\\\u001b[43mkwargs\\\\u001b[49m\\\\u001b[43m)\\\\u001b[49m\\\\n\",\\n      \"\\\\u001b[31mFileNotFoundError\\\\u001b[39m: [Errno 2] No such file or directory: \\'text/subdir2/hello-write.txt\\'\"\\n     ]\\n    }\\n   ],\\n   \"source\": [\\n    \"write_text(\\\\\"hi\\\\\", Path(\\\\\"text/subdir2/hello-write.txt\\\\\"), recurse=False)\"\\n   ]\\n  },\\n  {\\n   \"cell_type\": \"code\",\\n   \"execution_count\": 105,\\n   \"id\": \"89961881\",\\n   \"metadata\": {},\\n   \"outputs\": [\\n    {\\n     \"name\": \"stdout\",\\n     \"output_type\": \"stream\",\\n     \"text\": [\\n      \"Created intermediate dir: text/subdir/sub\\\\n\",\\n      \"Text successfully written to text/subdir/sub/hello-write.txt\\\\n\"\\n     ]\\n    }\\n   ],\\n   \"source\": [\\n    \"write_text(\\\\\"hi\\\\\", Path(\\\\\"text/subdir/sub/hello-write.txt\\\\\"), recurse=True)\"\\n   ]\\n  },\\n  {\\n   \"cell_type\": \"markdown\",\\n   \"id\": \"767ba84a\",\\n   \"metadata\": {},\\n   \"source\": [\\n    \"## `read_text_dir()`\"\\n   ]\\n  },\\n  {\\n   \"cell_type\": \"code\",\\n   \"execution_count\": 229,\\n   \"id\": \"5764401e\",\\n   \"metadata\": {},\\n   \"outputs\": [],\\n   \"source\": [\\n    \"def read_text_dir(path, \\\\n\",\\n    \"                  recurse: bool = True,\\\\n\",\\n    \"                  pattern: str = \\'*\\',\\\\n\",\\n    \"                  case_sensitive: bool | None = None,\\\\n\",\\n    \"                  encoding: str = \\\\\"utf-8\\\\\",\\\\n\",\\n    \"                  ):\\\\n\",\\n    \"    \\\\\"\\\\\"\\\\\"Read all text files in a directory and return their contents in a dictionary.\\\\n\",\\n    \"    \\\\\"\\\\\"\\\\\"\\\\n\",\\n    \"    path = Path(path)\\\\n\",\\n    \"    # Validate that the path exists and is a directory\\\\n\",\\n    \"    if not path.exists():\\\\n\",\\n    \"        raise FileNotFoundError(f\\\\\"The path does not exist: \\'{path}\\'\\\\\")\\\\n\",\\n    \"    if not path.is_dir():\\\\n\",\\n    \"        raise NotADirectoryError(f\\\\\"The path is not a directory: \\'{path}\\'\\\\\")\\\\n\",\\n    \"    \\\\n\",\\n    \"    # Get mapping of pattern\\\\n\",\\n    \"    if recurse: \\\\n\",\\n    \"        path_map = path.rglob(pattern, case_sensitive = case_sensitive)\\\\n\",\\n    \"    else:\\\\n\",\\n    \"        path_map = path.glob(pattern, case_sensitive = case_sensitive)\\\\n\",\\n    \"        \\\\n\",\\n    \"    # Get the list of path that is files and not dotfile \\\\n\",\\n    \"    path_list = [f for f in path_map if f.is_file() and not f.name.startswith(\\\\\".\\\\\")]\\\\n\",\\n    \"    path_name_list = [f.name for f in path_list]\\\\n\",\\n    \"    \\\\n\",\\n    \"    # Read files in to dictionary where keys are filenames \\\\n\",\\n    \"    content_dict = {}\\\\n\",\\n    \"    \\\\n\",\\n    \"    for path_name, path in zip(path_name_list, path_list):\\\\n\",\\n    \"        try:\\\\n\",\\n    \"            content_dict[path_name] = read_text(path, encoding = encoding)\\\\n\",\\n    \"        except Exception as e:\\\\n\",\\n    \"            print(f\\\\\"Error reading file: \\'{path_name}\\'\\\\\\\\n {e}\\\\\")\\\\n\",\\n    \"            continue\\\\n\",\\n    \"\\\\n\",\\n    \"    # Sort by filename\\\\n\",\\n    \"    content_dict_sorted = dict(sorted(content_dict.items()))\\\\n\",\\n    \"    \\\\n\",\\n    \"    return content_dict_sorted\\\\n\",\\n    \"    \"\\n   ]\\n  },\\n  {\\n   \"cell_type\": \"code\",\\n   \"execution_count\": 230,\\n   \"id\": \"7f58218a\",\\n   \"metadata\": {},\\n   \"outputs\": [\\n    {\\n     \"data\": {\\n      \"text/plain\": [\\n       \"{\\'hello-write.txt\\': \\'hi\\',\\\\n\",\\n       \" \\'hello-write2.txt\\': \\'hi2\\',\\\\n\",\\n       \" \\'hello.txt\\': \\'Hello world\\\\\\\\nThis is secound line\\\\\\\\n\\'}\"\\n      ]\\n     },\\n     \"execution_count\": 230,\\n     \"metadata\": {},\\n     \"output_type\": \"execute_result\"\\n    }\\n   ],\\n   \"source\": [\\n    \"content_dict1 = read_text_dir(\\\\\"text\\\\\", recurse=True, pattern=\\\\\"*.txt\\\\\")\\\\n\",\\n    \"content_dict1\"\\n   ]\\n  },\\n  {\\n   \"cell_type\": \"markdown\",\\n   \"id\": \"e2ea8e38\",\\n   \"metadata\": {},\\n   \"source\": [\\n    \"## Read & Write Pickle Files\"\\n   ]\\n  },\\n  {\\n   \"cell_type\": \"code\",\\n   \"execution_count\": 247,\\n   \"id\": \"0de66407\",\\n   \"metadata\": {},\\n   \"outputs\": [],\\n   \"source\": [\\n    \"import pickle\"\\n   ]\\n  },\\n  {\\n   \"cell_type\": \"code\",\\n   \"execution_count\": 250,\\n   \"id\": \"c1dafadb\",\\n   \"metadata\": {},\\n   \"outputs\": [],\\n   \"source\": [\\n    \"def write_pickle(object, path, recurse=False):\\\\n\",\\n    \"    \\\\\"\\\\\"\\\\\"\\\\n\",\\n    \"    Write a Python object to a pickle file.\\\\n\",\\n    \"    \\\\\"\\\\\"\\\\\"\\\\n\",\\n    \"    path = Path(path)\\\\n\",\\n    \"    try:\\\\n\",\\n    \"        # Create intermediate directories if they don\\'t exist\\\\n\",\\n    \"        if recurse and not path.parent.exists():\\\\n\",\\n    \"            path.parent.mkdir(parents=True, exist_ok=True)\\\\n\",\\n    \"            print(f\\\\\"Created intermediate dir: {path.parent}\\\\\")\\\\n\",\\n    \"            \\\\n\",\\n    \"        with open(path, \\'wb\\') as file:  # \\'wb\\' for write binary mode\\\\n\",\\n    \"            pickle.dump(object, file)\\\\n\",\\n    \"    \\\\n\",\\n    \"    except (PermissionError, IsADirectoryError):\\\\n\",\\n    \"        print(f\\\\\"Cannot write to file: `{path}`\\\\\")\\\\n\",\\n    \"    except Exception:\\\\n\",\\n    \"        raise\\\\n\"\\n   ]\\n  },\\n  {\\n   \"cell_type\": \"code\",\\n   \"execution_count\": 249,\\n   \"id\": \"cde51829\",\\n   \"metadata\": {},\\n   \"outputs\": [],\\n   \"source\": [\\n    \"def read_pickle(path):\\\\n\",\\n    \"    \\\\\"\\\\\"\\\\\"\\\\n\",\\n    \"    Read a Python object from a pickle file.\\\\n\",\\n    \"    \\\\\"\\\\\"\\\\\"\\\\n\",\\n    \"    path = Path(path)\\\\n\",\\n    \"    try:\\\\n\",\\n    \"        with open(path, \\'rb\\') as file:  # \\'rb\\' for read binary mode\\\\n\",\\n    \"            return pickle.load(file)\\\\n\",\\n    \"    except FileNotFoundError:\\\\n\",\\n    \"        print(f\\\\\"File was not found: `{path}`\\\\\")\\\\n\",\\n    \"    except Exception:\\\\n\",\\n    \"        raise\"\\n   ]\\n  },\\n  {\\n   \"cell_type\": \"code\",\\n   \"execution_count\": 251,\\n   \"id\": \"61974afb\",\\n   \"metadata\": {},\\n   \"outputs\": [],\\n   \"source\": [\\n    \"write_pickle(\\\\\"Hi\\\\\", \\\\\"pkl/tester.pkl\\\\\")\"\\n   ]\\n  },\\n  {\\n   \"cell_type\": \"code\",\\n   \"execution_count\": 252,\\n   \"id\": \"90cba814\",\\n   \"metadata\": {},\\n   \"outputs\": [\\n    {\\n     \"data\": {\\n      \"text/plain\": [\\n       \"\\'Hi\\'\"\\n      ]\\n     },\\n     \"execution_count\": 252,\\n     \"metadata\": {},\\n     \"output_type\": \"execute_result\"\\n    }\\n   ],\\n   \"source\": [\\n    \"read_pickle(\\\\\"pkl/tester.pkl\\\\\")\"\\n   ]\\n  }\\n ],\\n \"metadata\": {\\n  \"kernelspec\": {\\n   \"display_name\": \".venv\",\\n   \"language\": \"python\",\\n   \"name\": \"python3\"\\n  },\\n  \"language_info\": {\\n   \"codemirror_mode\": {\\n    \"name\": \"ipython\",\\n    \"version\": 3\\n   },\\n   \"file_extension\": \".py\",\\n   \"mimetype\": \"text/x-python\",\\n   \"name\": \"python\",\\n   \"nbconvert_exporter\": \"python\",\\n   \"pygments_lexer\": \"ipython3\",\\n   \"version\": \"3.13.2\"\\n  }\\n },\\n \"nbformat\": 4,\\n \"nbformat_minor\": 5\\n}\\n',\n",
       " 'hello-write.txt': 'hi',\n",
       " 'hello-write2.txt': 'hi2',\n",
       " 'hello.txt': 'Hello world\\nThis is secound line\\n',\n",
       " 'tester.md': ''}"
      ]
     },
     "execution_count": 4,
     "metadata": {},
     "output_type": "execute_result"
    }
   ],
   "source": [
    "lbpy.list_dir(\".\")\n",
    "lbpy.read_text_dir(\".\")"
   ]
  },
  {
   "cell_type": "markdown",
   "id": "9595fa09",
   "metadata": {},
   "source": [
    "## `list_dir()`"
   ]
  },
  {
   "cell_type": "code",
   "execution_count": 244,
   "id": "6e4e3bed",
   "metadata": {},
   "outputs": [],
   "source": [
    "def list_dir(directory, recurse = False, pattern: str = \"*\") -> list[Path]:\n",
    "    \"\"\"List content in a directory\"\"\"\n",
    "    path = Path(directory)\n",
    "    if recurse:\n",
    "        return list(path.rglob(pattern))\n",
    "    else:\n",
    "        return list(path.glob(pattern))"
   ]
  },
  {
   "cell_type": "code",
   "execution_count": 246,
   "id": "84e61dd3",
   "metadata": {},
   "outputs": [
    {
     "data": {
      "text/plain": [
       "[PosixPath('fs.ipynb'), PosixPath('text')]"
      ]
     },
     "execution_count": 246,
     "metadata": {},
     "output_type": "execute_result"
    }
   ],
   "source": [
    "list_dir(\".\", recurse=False)"
   ]
  },
  {
   "cell_type": "markdown",
   "id": "9006fe25",
   "metadata": {},
   "source": [
    "## `read_text()`"
   ]
  },
  {
   "cell_type": "code",
   "execution_count": null,
   "id": "f2db18e7",
   "metadata": {},
   "outputs": [],
   "source": [
    "def read_text(path, encoding='utf-8'):    \n",
    "    \"\"\"Read a text file and return its content as a string.\n",
    "    \"\"\"\n",
    "    path = Path(path)\n",
    "    try:\n",
    "        # Open the text file in read mode\n",
    "        with open(path, 'r', encoding=encoding) as file:\n",
    "            # Read the entire file content into a string\n",
    "            text_content = file.read()\n",
    "            return text_content\n",
    "    except FileNotFoundError:\n",
    "        print(f\"File was not found: `{path}`\")\n",
    "    except Exception:\n",
    "        raise"
   ]
  },
  {
   "cell_type": "code",
   "execution_count": 44,
   "id": "53c98ee9",
   "metadata": {},
   "outputs": [
    {
     "name": "stdout",
     "output_type": "stream",
     "text": [
      "File was not found: `not-exist.txt`\n"
     ]
    }
   ],
   "source": [
    "read_text(\"not-exist.txt\")"
   ]
  },
  {
   "cell_type": "code",
   "execution_count": 46,
   "id": "b1042fcc",
   "metadata": {},
   "outputs": [
    {
     "data": {
      "text/plain": [
       "'Hello world\\nThis is secound line\\n'"
      ]
     },
     "execution_count": 46,
     "metadata": {},
     "output_type": "execute_result"
    }
   ],
   "source": [
    "read_text(\"text/hello.txt\")\n",
    "read_text(Path(\"text/hello.txt\"))"
   ]
  },
  {
   "cell_type": "markdown",
   "id": "ca04926d",
   "metadata": {},
   "source": [
    "### HowTo"
   ]
  },
  {
   "cell_type": "code",
   "execution_count": null,
   "id": "2ceb31c7",
   "metadata": {},
   "outputs": [
    {
     "data": {
      "text/plain": [
       "'Hello world\\nThis is secound line\\n'"
      ]
     },
     "execution_count": 4,
     "metadata": {},
     "output_type": "execute_result"
    }
   ],
   "source": [
    "with open(\"text/hello.txt\", 'r', encoding='utf-8') as file:\n",
    "    res1 = file.read()\n",
    "    \n",
    "res1"
   ]
  },
  {
   "cell_type": "code",
   "execution_count": 6,
   "id": "cab851ba",
   "metadata": {},
   "outputs": [
    {
     "data": {
      "text/plain": [
       "['Hello world\\n', 'This is secound line\\n']"
      ]
     },
     "execution_count": 6,
     "metadata": {},
     "output_type": "execute_result"
    }
   ],
   "source": [
    "with open(\"text/hello.txt\", 'r', encoding='utf-8') as file:\n",
    "    res2 = file.readlines()\n",
    "    \n",
    "res2"
   ]
  },
  {
   "cell_type": "markdown",
   "id": "9943a0eb",
   "metadata": {},
   "source": [
    "## `write_text()`"
   ]
  },
  {
   "cell_type": "code",
   "execution_count": 101,
   "id": "22a1e75f",
   "metadata": {},
   "outputs": [],
   "source": [
    "def write_text(text, path, encoding=\"utf-8\", recurse = False, append = False):\n",
    "    \"\"\"Write a text string to a text file.\n",
    "    \"\"\"\n",
    "    path = Path(path)\n",
    "    try:\n",
    "        # Create intermediate directories if they don't exist\n",
    "        if recurse and not path.parent.exists():\n",
    "            path.parent.mkdir(parents=True, exist_ok=True)\n",
    "            print(f\"Created intermediate dir: {path.parent}\")\n",
    "        \n",
    "        # Open the text file to write or append content\n",
    "        with open(path, \"a\" if append else \"w\", encoding=encoding) as file:\n",
    "            file.write(text)\n",
    "            if append:\n",
    "                print(f\"Text successfully append to {path}\")\n",
    "            else:\n",
    "                print(f\"Text successfully written to {path}\")\n",
    "        \n",
    "    except (PermissionError, IsADirectoryError):\n",
    "        print(f\"Cannot write to file: `{path}`\")\n",
    "    except Exception:\n",
    "        raise\n"
   ]
  },
  {
   "cell_type": "code",
   "execution_count": 96,
   "id": "8d1155d0",
   "metadata": {},
   "outputs": [
    {
     "name": "stdout",
     "output_type": "stream",
     "text": [
      "Text successfully written to text/hello-write.txt\n",
      "Text successfully written to text/hello-write2.txt\n"
     ]
    }
   ],
   "source": [
    "write_text(\"hi\", Path(\"text/hello-write.txt\"), append=False)\n",
    "write_text(\"hi2\", Path(\"text/hello-write2.txt\"), append=False)"
   ]
  },
  {
   "cell_type": "code",
   "execution_count": 102,
   "id": "495212b4",
   "metadata": {},
   "outputs": [
    {
     "ename": "FileNotFoundError",
     "evalue": "[Errno 2] No such file or directory: 'text/subdir2/hello-write.txt'",
     "output_type": "error",
     "traceback": [
      "\u001b[31m---------------------------------------------------------------------------\u001b[39m",
      "\u001b[31mFileNotFoundError\u001b[39m                         Traceback (most recent call last)",
      "\u001b[36mCell\u001b[39m\u001b[36m \u001b[39m\u001b[32mIn[102]\u001b[39m\u001b[32m, line 1\u001b[39m\n\u001b[32m----> \u001b[39m\u001b[32m1\u001b[39m \u001b[43mwrite_text\u001b[49m\u001b[43m(\u001b[49m\u001b[33;43m\"\u001b[39;49m\u001b[33;43mhi\u001b[39;49m\u001b[33;43m\"\u001b[39;49m\u001b[43m,\u001b[49m\u001b[43m \u001b[49m\u001b[43mPath\u001b[49m\u001b[43m(\u001b[49m\u001b[33;43m\"\u001b[39;49m\u001b[33;43mtext/subdir2/hello-write.txt\u001b[39;49m\u001b[33;43m\"\u001b[39;49m\u001b[43m)\u001b[49m\u001b[43m,\u001b[49m\u001b[43m \u001b[49m\u001b[43mrecurse\u001b[49m\u001b[43m=\u001b[49m\u001b[38;5;28;43;01mFalse\u001b[39;49;00m\u001b[43m)\u001b[49m\n",
      "\u001b[36mCell\u001b[39m\u001b[36m \u001b[39m\u001b[32mIn[101]\u001b[39m\u001b[32m, line 12\u001b[39m, in \u001b[36mwrite_text\u001b[39m\u001b[34m(text, path, encoding, recurse, append)\u001b[39m\n\u001b[32m      9\u001b[39m     \u001b[38;5;28mprint\u001b[39m(\u001b[33mf\u001b[39m\u001b[33m\"\u001b[39m\u001b[33mCreated intermediate dir: \u001b[39m\u001b[38;5;132;01m{\u001b[39;00mpath.parent\u001b[38;5;132;01m}\u001b[39;00m\u001b[33m\"\u001b[39m)\n\u001b[32m     11\u001b[39m \u001b[38;5;66;03m# Open the text file to write or append content\u001b[39;00m\n\u001b[32m---> \u001b[39m\u001b[32m12\u001b[39m \u001b[38;5;28;01mwith\u001b[39;00m \u001b[38;5;28;43mopen\u001b[39;49m\u001b[43m(\u001b[49m\u001b[43mpath\u001b[49m\u001b[43m,\u001b[49m\u001b[43m \u001b[49m\u001b[33;43m\"\u001b[39;49m\u001b[33;43ma\u001b[39;49m\u001b[33;43m\"\u001b[39;49m\u001b[43m \u001b[49m\u001b[38;5;28;43;01mif\u001b[39;49;00m\u001b[43m \u001b[49m\u001b[43mappend\u001b[49m\u001b[43m \u001b[49m\u001b[38;5;28;43;01melse\u001b[39;49;00m\u001b[43m \u001b[49m\u001b[33;43m\"\u001b[39;49m\u001b[33;43mw\u001b[39;49m\u001b[33;43m\"\u001b[39;49m\u001b[43m,\u001b[49m\u001b[43m \u001b[49m\u001b[43mencoding\u001b[49m\u001b[43m=\u001b[49m\u001b[43mencoding\u001b[49m\u001b[43m)\u001b[49m \u001b[38;5;28;01mas\u001b[39;00m file:\n\u001b[32m     13\u001b[39m     file.write(text)\n\u001b[32m     14\u001b[39m     \u001b[38;5;28;01mif\u001b[39;00m append:\n",
      "\u001b[36mFile \u001b[39m\u001b[32m~/my_pkg-py/lbpy/.venv/lib/python3.13/site-packages/IPython/core/interactiveshell.py:326\u001b[39m, in \u001b[36m_modified_open\u001b[39m\u001b[34m(file, *args, **kwargs)\u001b[39m\n\u001b[32m    319\u001b[39m \u001b[38;5;28;01mif\u001b[39;00m file \u001b[38;5;129;01min\u001b[39;00m {\u001b[32m0\u001b[39m, \u001b[32m1\u001b[39m, \u001b[32m2\u001b[39m}:\n\u001b[32m    320\u001b[39m     \u001b[38;5;28;01mraise\u001b[39;00m \u001b[38;5;167;01mValueError\u001b[39;00m(\n\u001b[32m    321\u001b[39m         \u001b[33mf\u001b[39m\u001b[33m\"\u001b[39m\u001b[33mIPython won\u001b[39m\u001b[33m'\u001b[39m\u001b[33mt let you open fd=\u001b[39m\u001b[38;5;132;01m{\u001b[39;00mfile\u001b[38;5;132;01m}\u001b[39;00m\u001b[33m by default \u001b[39m\u001b[33m\"\u001b[39m\n\u001b[32m    322\u001b[39m         \u001b[33m\"\u001b[39m\u001b[33mas it is likely to crash IPython. If you know what you are doing, \u001b[39m\u001b[33m\"\u001b[39m\n\u001b[32m    323\u001b[39m         \u001b[33m\"\u001b[39m\u001b[33myou can use builtins\u001b[39m\u001b[33m'\u001b[39m\u001b[33m open.\u001b[39m\u001b[33m\"\u001b[39m\n\u001b[32m    324\u001b[39m     )\n\u001b[32m--> \u001b[39m\u001b[32m326\u001b[39m \u001b[38;5;28;01mreturn\u001b[39;00m \u001b[43mio_open\u001b[49m\u001b[43m(\u001b[49m\u001b[43mfile\u001b[49m\u001b[43m,\u001b[49m\u001b[43m \u001b[49m\u001b[43m*\u001b[49m\u001b[43margs\u001b[49m\u001b[43m,\u001b[49m\u001b[43m \u001b[49m\u001b[43m*\u001b[49m\u001b[43m*\u001b[49m\u001b[43mkwargs\u001b[49m\u001b[43m)\u001b[49m\n",
      "\u001b[31mFileNotFoundError\u001b[39m: [Errno 2] No such file or directory: 'text/subdir2/hello-write.txt'"
     ]
    }
   ],
   "source": [
    "write_text(\"hi\", Path(\"text/subdir2/hello-write.txt\"), recurse=False)"
   ]
  },
  {
   "cell_type": "code",
   "execution_count": 105,
   "id": "89961881",
   "metadata": {},
   "outputs": [
    {
     "name": "stdout",
     "output_type": "stream",
     "text": [
      "Created intermediate dir: text/subdir/sub\n",
      "Text successfully written to text/subdir/sub/hello-write.txt\n"
     ]
    }
   ],
   "source": [
    "write_text(\"hi\", Path(\"text/subdir/sub/hello-write.txt\"), recurse=True)"
   ]
  },
  {
   "cell_type": "markdown",
   "id": "767ba84a",
   "metadata": {},
   "source": [
    "## `read_text_dir()`"
   ]
  },
  {
   "cell_type": "code",
   "execution_count": 229,
   "id": "5764401e",
   "metadata": {},
   "outputs": [],
   "source": [
    "def read_text_dir(path, \n",
    "                  recurse: bool = True,\n",
    "                  pattern: str = '*',\n",
    "                  case_sensitive: bool | None = None,\n",
    "                  encoding: str = \"utf-8\",\n",
    "                  ):\n",
    "    \"\"\"Read all text files in a directory and return their contents in a dictionary.\n",
    "    \"\"\"\n",
    "    path = Path(path)\n",
    "    # Validate that the path exists and is a directory\n",
    "    if not path.exists():\n",
    "        raise FileNotFoundError(f\"The path does not exist: '{path}'\")\n",
    "    if not path.is_dir():\n",
    "        raise NotADirectoryError(f\"The path is not a directory: '{path}'\")\n",
    "    \n",
    "    # Get mapping of pattern\n",
    "    if recurse: \n",
    "        path_map = path.rglob(pattern, case_sensitive = case_sensitive)\n",
    "    else:\n",
    "        path_map = path.glob(pattern, case_sensitive = case_sensitive)\n",
    "        \n",
    "    # Get the list of path that is files and not dotfile \n",
    "    path_list = [f for f in path_map if f.is_file() and not f.name.startswith(\".\")]\n",
    "    path_name_list = [f.name for f in path_list]\n",
    "    \n",
    "    # Read files in to dictionary where keys are filenames \n",
    "    content_dict = {}\n",
    "    \n",
    "    for path_name, path in zip(path_name_list, path_list):\n",
    "        try:\n",
    "            content_dict[path_name] = read_text(path, encoding = encoding)\n",
    "        except Exception as e:\n",
    "            print(f\"Error reading file: '{path_name}'\\n {e}\")\n",
    "            continue\n",
    "\n",
    "    # Sort by filename\n",
    "    content_dict_sorted = dict(sorted(content_dict.items()))\n",
    "    \n",
    "    return content_dict_sorted\n",
    "    "
   ]
  },
  {
   "cell_type": "code",
   "execution_count": 230,
   "id": "7f58218a",
   "metadata": {},
   "outputs": [
    {
     "data": {
      "text/plain": [
       "{'hello-write.txt': 'hi',\n",
       " 'hello-write2.txt': 'hi2',\n",
       " 'hello.txt': 'Hello world\\nThis is secound line\\n'}"
      ]
     },
     "execution_count": 230,
     "metadata": {},
     "output_type": "execute_result"
    }
   ],
   "source": [
    "content_dict1 = read_text_dir(\"text\", recurse=True, pattern=\"*.txt\")\n",
    "content_dict1"
   ]
  },
  {
   "cell_type": "markdown",
   "id": "e2ea8e38",
   "metadata": {},
   "source": [
    "## Read & Write Pickle Files"
   ]
  },
  {
   "cell_type": "code",
   "execution_count": 247,
   "id": "0de66407",
   "metadata": {},
   "outputs": [],
   "source": [
    "import pickle"
   ]
  },
  {
   "cell_type": "code",
   "execution_count": 250,
   "id": "c1dafadb",
   "metadata": {},
   "outputs": [],
   "source": [
    "def write_pickle(object, path, recurse=False):\n",
    "    \"\"\"\n",
    "    Write a Python object to a pickle file.\n",
    "    \"\"\"\n",
    "    path = Path(path)\n",
    "    try:\n",
    "        # Create intermediate directories if they don't exist\n",
    "        if recurse and not path.parent.exists():\n",
    "            path.parent.mkdir(parents=True, exist_ok=True)\n",
    "            print(f\"Created intermediate dir: {path.parent}\")\n",
    "            \n",
    "        with open(path, 'wb') as file:  # 'wb' for write binary mode\n",
    "            pickle.dump(object, file)\n",
    "    \n",
    "    except (PermissionError, IsADirectoryError):\n",
    "        print(f\"Cannot write to file: `{path}`\")\n",
    "    except Exception:\n",
    "        raise\n"
   ]
  },
  {
   "cell_type": "code",
   "execution_count": 249,
   "id": "cde51829",
   "metadata": {},
   "outputs": [],
   "source": [
    "def read_pickle(path):\n",
    "    \"\"\"\n",
    "    Read a Python object from a pickle file.\n",
    "    \"\"\"\n",
    "    path = Path(path)\n",
    "    try:\n",
    "        with open(path, 'rb') as file:  # 'rb' for read binary mode\n",
    "            return pickle.load(file)\n",
    "    except FileNotFoundError:\n",
    "        print(f\"File was not found: `{path}`\")\n",
    "    except Exception:\n",
    "        raise"
   ]
  },
  {
   "cell_type": "code",
   "execution_count": 251,
   "id": "61974afb",
   "metadata": {},
   "outputs": [],
   "source": [
    "write_pickle(\"Hi\", \"pkl/tester.pkl\")"
   ]
  },
  {
   "cell_type": "code",
   "execution_count": 252,
   "id": "90cba814",
   "metadata": {},
   "outputs": [
    {
     "data": {
      "text/plain": [
       "'Hi'"
      ]
     },
     "execution_count": 252,
     "metadata": {},
     "output_type": "execute_result"
    }
   ],
   "source": [
    "read_pickle(\"pkl/tester.pkl\")"
   ]
  }
 ],
 "metadata": {
  "kernelspec": {
   "display_name": ".venv",
   "language": "python",
   "name": "python3"
  },
  "language_info": {
   "codemirror_mode": {
    "name": "ipython",
    "version": 3
   },
   "file_extension": ".py",
   "mimetype": "text/x-python",
   "name": "python",
   "nbconvert_exporter": "python",
   "pygments_lexer": "ipython3",
   "version": "3.13.2"
  }
 },
 "nbformat": 4,
 "nbformat_minor": 5
}
