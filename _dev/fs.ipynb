{
 "cells": [
  {
   "cell_type": "markdown",
   "id": "0a53f7bd",
   "metadata": {},
   "source": [
    "# Dev: `fs`"
   ]
  }
 ],
 "metadata": {
  "language_info": {
   "name": "python"
  }
 },
 "nbformat": 4,
 "nbformat_minor": 5
}
