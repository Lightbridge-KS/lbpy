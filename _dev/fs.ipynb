{
 "cells": [
  {
   "cell_type": "markdown",
   "id": "0a53f7bd",
   "metadata": {},
   "source": [
    "# Dev: `fs`"
   ]
  },
  {
   "cell_type": "code",
   "execution_count": null,
   "id": "cea330ac",
   "metadata": {},
   "outputs": [],
   "source": [
    "import os\n",
    "from pathlib import Path"
   ]
  },
  {
   "cell_type": "markdown",
   "id": "9006fe25",
   "metadata": {},
   "source": [
    "## `read_text()`"
   ]
  },
  {
   "cell_type": "code",
   "execution_count": null,
   "id": "f2db18e7",
   "metadata": {},
   "outputs": [],
   "source": [
    "def read_text(path, encoding='utf-8'):    \n",
    "    \"\"\"Read a text file and return its content as a string.\n",
    "    \"\"\"\n",
    "    path = Path(path)\n",
    "    try:\n",
    "        # Open the text file in read mode\n",
    "        with open(path, 'r', encoding=encoding) as file:\n",
    "            # Read the entire file content into a string\n",
    "            text_content = file.read()\n",
    "            return text_content\n",
    "    except FileNotFoundError:\n",
    "        print(f\"File was not found: `{path}`\")\n",
    "    except Exception:\n",
    "        raise"
   ]
  },
  {
   "cell_type": "code",
   "execution_count": 44,
   "id": "53c98ee9",
   "metadata": {},
   "outputs": [
    {
     "name": "stdout",
     "output_type": "stream",
     "text": [
      "File was not found: `not-exist.txt`\n"
     ]
    }
   ],
   "source": [
    "read_text(\"not-exist.txt\")"
   ]
  },
  {
   "cell_type": "code",
   "execution_count": 46,
   "id": "b1042fcc",
   "metadata": {},
   "outputs": [
    {
     "data": {
      "text/plain": [
       "'Hello world\\nThis is secound line\\n'"
      ]
     },
     "execution_count": 46,
     "metadata": {},
     "output_type": "execute_result"
    }
   ],
   "source": [
    "read_text(\"text/hello.txt\")\n",
    "read_text(Path(\"text/hello.txt\"))"
   ]
  },
  {
   "cell_type": "markdown",
   "id": "ca04926d",
   "metadata": {},
   "source": [
    "### HowTo"
   ]
  },
  {
   "cell_type": "code",
   "execution_count": null,
   "id": "2ceb31c7",
   "metadata": {},
   "outputs": [
    {
     "data": {
      "text/plain": [
       "'Hello world\\nThis is secound line\\n'"
      ]
     },
     "execution_count": 4,
     "metadata": {},
     "output_type": "execute_result"
    }
   ],
   "source": [
    "with open(\"text/hello.txt\", 'r', encoding='utf-8') as file:\n",
    "    res1 = file.read()\n",
    "    \n",
    "res1"
   ]
  },
  {
   "cell_type": "code",
   "execution_count": 6,
   "id": "cab851ba",
   "metadata": {},
   "outputs": [
    {
     "data": {
      "text/plain": [
       "['Hello world\\n', 'This is secound line\\n']"
      ]
     },
     "execution_count": 6,
     "metadata": {},
     "output_type": "execute_result"
    }
   ],
   "source": [
    "with open(\"text/hello.txt\", 'r', encoding='utf-8') as file:\n",
    "    res2 = file.readlines()\n",
    "    \n",
    "res2"
   ]
  },
  {
   "cell_type": "markdown",
   "id": "9943a0eb",
   "metadata": {},
   "source": [
    "## `write_text()`"
   ]
  },
  {
   "cell_type": "code",
   "execution_count": 101,
   "id": "22a1e75f",
   "metadata": {},
   "outputs": [],
   "source": [
    "def write_text(text, path, encoding=\"utf-8\", recurse = False, append = False):\n",
    "    \"\"\"Write a text string to a text file.\n",
    "    \"\"\"\n",
    "    path = Path(path)\n",
    "    try:\n",
    "        # Create intermediate directories if they don't exist\n",
    "        if recurse and not path.parent.exists():\n",
    "            path.parent.mkdir(parents=True, exist_ok=True)\n",
    "            print(f\"Created intermediate dir: {path.parent}\")\n",
    "        \n",
    "        # Open the text file to write or append content\n",
    "        with open(path, \"a\" if append else \"w\", encoding=encoding) as file:\n",
    "            file.write(text)\n",
    "            if append:\n",
    "                print(f\"Text successfully append to {path}\")\n",
    "            else:\n",
    "                print(f\"Text successfully written to {path}\")\n",
    "        \n",
    "    except (PermissionError, IsADirectoryError):\n",
    "        print(f\"Cannot write to file: `{path}`\")\n",
    "    except Exception:\n",
    "        raise\n"
   ]
  },
  {
   "cell_type": "code",
   "execution_count": 96,
   "id": "8d1155d0",
   "metadata": {},
   "outputs": [
    {
     "name": "stdout",
     "output_type": "stream",
     "text": [
      "Text successfully written to text/hello-write.txt\n",
      "Text successfully written to text/hello-write2.txt\n"
     ]
    }
   ],
   "source": [
    "write_text(\"hi\", Path(\"text/hello-write.txt\"), append=False)\n",
    "write_text(\"hi2\", Path(\"text/hello-write2.txt\"), append=False)"
   ]
  },
  {
   "cell_type": "code",
   "execution_count": 102,
   "id": "495212b4",
   "metadata": {},
   "outputs": [
    {
     "ename": "FileNotFoundError",
     "evalue": "[Errno 2] No such file or directory: 'text/subdir2/hello-write.txt'",
     "output_type": "error",
     "traceback": [
      "\u001b[31m---------------------------------------------------------------------------\u001b[39m",
      "\u001b[31mFileNotFoundError\u001b[39m                         Traceback (most recent call last)",
      "\u001b[36mCell\u001b[39m\u001b[36m \u001b[39m\u001b[32mIn[102]\u001b[39m\u001b[32m, line 1\u001b[39m\n\u001b[32m----> \u001b[39m\u001b[32m1\u001b[39m \u001b[43mwrite_text\u001b[49m\u001b[43m(\u001b[49m\u001b[33;43m\"\u001b[39;49m\u001b[33;43mhi\u001b[39;49m\u001b[33;43m\"\u001b[39;49m\u001b[43m,\u001b[49m\u001b[43m \u001b[49m\u001b[43mPath\u001b[49m\u001b[43m(\u001b[49m\u001b[33;43m\"\u001b[39;49m\u001b[33;43mtext/subdir2/hello-write.txt\u001b[39;49m\u001b[33;43m\"\u001b[39;49m\u001b[43m)\u001b[49m\u001b[43m,\u001b[49m\u001b[43m \u001b[49m\u001b[43mrecurse\u001b[49m\u001b[43m=\u001b[49m\u001b[38;5;28;43;01mFalse\u001b[39;49;00m\u001b[43m)\u001b[49m\n",
      "\u001b[36mCell\u001b[39m\u001b[36m \u001b[39m\u001b[32mIn[101]\u001b[39m\u001b[32m, line 12\u001b[39m, in \u001b[36mwrite_text\u001b[39m\u001b[34m(text, path, encoding, recurse, append)\u001b[39m\n\u001b[32m      9\u001b[39m     \u001b[38;5;28mprint\u001b[39m(\u001b[33mf\u001b[39m\u001b[33m\"\u001b[39m\u001b[33mCreated intermediate dir: \u001b[39m\u001b[38;5;132;01m{\u001b[39;00mpath.parent\u001b[38;5;132;01m}\u001b[39;00m\u001b[33m\"\u001b[39m)\n\u001b[32m     11\u001b[39m \u001b[38;5;66;03m# Open the text file to write or append content\u001b[39;00m\n\u001b[32m---> \u001b[39m\u001b[32m12\u001b[39m \u001b[38;5;28;01mwith\u001b[39;00m \u001b[38;5;28;43mopen\u001b[39;49m\u001b[43m(\u001b[49m\u001b[43mpath\u001b[49m\u001b[43m,\u001b[49m\u001b[43m \u001b[49m\u001b[33;43m\"\u001b[39;49m\u001b[33;43ma\u001b[39;49m\u001b[33;43m\"\u001b[39;49m\u001b[43m \u001b[49m\u001b[38;5;28;43;01mif\u001b[39;49;00m\u001b[43m \u001b[49m\u001b[43mappend\u001b[49m\u001b[43m \u001b[49m\u001b[38;5;28;43;01melse\u001b[39;49;00m\u001b[43m \u001b[49m\u001b[33;43m\"\u001b[39;49m\u001b[33;43mw\u001b[39;49m\u001b[33;43m\"\u001b[39;49m\u001b[43m,\u001b[49m\u001b[43m \u001b[49m\u001b[43mencoding\u001b[49m\u001b[43m=\u001b[49m\u001b[43mencoding\u001b[49m\u001b[43m)\u001b[49m \u001b[38;5;28;01mas\u001b[39;00m file:\n\u001b[32m     13\u001b[39m     file.write(text)\n\u001b[32m     14\u001b[39m     \u001b[38;5;28;01mif\u001b[39;00m append:\n",
      "\u001b[36mFile \u001b[39m\u001b[32m~/my_pkg-py/lbpy/.venv/lib/python3.13/site-packages/IPython/core/interactiveshell.py:326\u001b[39m, in \u001b[36m_modified_open\u001b[39m\u001b[34m(file, *args, **kwargs)\u001b[39m\n\u001b[32m    319\u001b[39m \u001b[38;5;28;01mif\u001b[39;00m file \u001b[38;5;129;01min\u001b[39;00m {\u001b[32m0\u001b[39m, \u001b[32m1\u001b[39m, \u001b[32m2\u001b[39m}:\n\u001b[32m    320\u001b[39m     \u001b[38;5;28;01mraise\u001b[39;00m \u001b[38;5;167;01mValueError\u001b[39;00m(\n\u001b[32m    321\u001b[39m         \u001b[33mf\u001b[39m\u001b[33m\"\u001b[39m\u001b[33mIPython won\u001b[39m\u001b[33m'\u001b[39m\u001b[33mt let you open fd=\u001b[39m\u001b[38;5;132;01m{\u001b[39;00mfile\u001b[38;5;132;01m}\u001b[39;00m\u001b[33m by default \u001b[39m\u001b[33m\"\u001b[39m\n\u001b[32m    322\u001b[39m         \u001b[33m\"\u001b[39m\u001b[33mas it is likely to crash IPython. If you know what you are doing, \u001b[39m\u001b[33m\"\u001b[39m\n\u001b[32m    323\u001b[39m         \u001b[33m\"\u001b[39m\u001b[33myou can use builtins\u001b[39m\u001b[33m'\u001b[39m\u001b[33m open.\u001b[39m\u001b[33m\"\u001b[39m\n\u001b[32m    324\u001b[39m     )\n\u001b[32m--> \u001b[39m\u001b[32m326\u001b[39m \u001b[38;5;28;01mreturn\u001b[39;00m \u001b[43mio_open\u001b[49m\u001b[43m(\u001b[49m\u001b[43mfile\u001b[49m\u001b[43m,\u001b[49m\u001b[43m \u001b[49m\u001b[43m*\u001b[49m\u001b[43margs\u001b[49m\u001b[43m,\u001b[49m\u001b[43m \u001b[49m\u001b[43m*\u001b[49m\u001b[43m*\u001b[49m\u001b[43mkwargs\u001b[49m\u001b[43m)\u001b[49m\n",
      "\u001b[31mFileNotFoundError\u001b[39m: [Errno 2] No such file or directory: 'text/subdir2/hello-write.txt'"
     ]
    }
   ],
   "source": [
    "write_text(\"hi\", Path(\"text/subdir2/hello-write.txt\"), recurse=False)"
   ]
  },
  {
   "cell_type": "code",
   "execution_count": 105,
   "id": "89961881",
   "metadata": {},
   "outputs": [
    {
     "name": "stdout",
     "output_type": "stream",
     "text": [
      "Created intermediate dir: text/subdir/sub\n",
      "Text successfully written to text/subdir/sub/hello-write.txt\n"
     ]
    }
   ],
   "source": [
    "write_text(\"hi\", Path(\"text/subdir/sub/hello-write.txt\"), recurse=True)"
   ]
  }
 ],
 "metadata": {
  "kernelspec": {
   "display_name": ".venv",
   "language": "python",
   "name": "python3"
  },
  "language_info": {
   "codemirror_mode": {
    "name": "ipython",
    "version": 3
   },
   "file_extension": ".py",
   "mimetype": "text/x-python",
   "name": "python",
   "nbconvert_exporter": "python",
   "pygments_lexer": "ipython3",
   "version": "3.13.2"
  }
 },
 "nbformat": 4,
 "nbformat_minor": 5
}
